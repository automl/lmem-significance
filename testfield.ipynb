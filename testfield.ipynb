{
 "cells": [
  {
   "cell_type": "code",
   "execution_count": 1,
   "metadata": {},
   "outputs": [
    {
     "name": "stderr",
     "output_type": "stream",
     "text": [
      "WARNING (pytensor.configdefaults): g++ not available, if using conda: `conda install m2w64-toolchain`\n",
      "WARNING (pytensor.configdefaults): g++ not detected!  PyTensor will be unable to compile C-implementations and will default to Python. Performance may be severely degraded. To remove this warning, set PyTensor flags cxx to an empty string.\n",
      "WARNING (pytensor.tensor.blas): Using NumPy C-API based implementation for BLAS functions.\n"
     ]
    }
   ],
   "source": [
    "from significance_analysis import *\n",
    "from pymer4.models import Lmer\n",
    "import bambi\n",
    "import pandas as pd"
   ]
  },
  {
   "cell_type": "code",
   "execution_count": 2,
   "metadata": {},
   "outputs": [],
   "source": [
    "data = pd.read_parquet(\"significance_analysis_example/datasets/priorband_data.parquet\")"
   ]
  },
  {
   "cell_type": "code",
   "execution_count": 3,
   "metadata": {},
   "outputs": [
    {
     "name": "stderr",
     "output_type": "stream",
     "text": [
      "c:\\Users\\lenak\\OFFLINE_FILES\\Anton\\Git\\lmem-significance\\.venv_3_10_0\\lib\\site-packages\\pymer4\\models\\Lmer.py:733: FutureWarning: DataFrame.applymap has been deprecated. Use DataFrame.map instead.\n",
      "  ran_vars = ran_vars.applymap(\n"
     ]
    },
    {
     "name": "stdout",
     "output_type": "stream",
     "text": [
      "Linear mixed model fit by REML [’lmerMod’]\n",
      "Formula: value~algorithm+(1|benchmark)\n",
      "\n",
      "Family: gaussian\t Inference: parametric\n",
      "\n",
      "Number of observations: 86400\t Groups: {'benchmark': 12.0}\n",
      "\n",
      "Log-likelihood: -244294.170 \t AIC: 488598.341\n",
      "\n",
      "Random effects:\n",
      "\n",
      "                  Name     Var    Std\n",
      "benchmark  (Intercept)  14.804  3.848\n",
      "Residual                16.707  4.087\n",
      "\n",
      "No random effect correlations specified\n",
      "\n",
      "Fixed effects:\n",
      "\n",
      "Linear mixed model fit by REML [’lmerMod’]\n",
      "Formula: value~algorithm+(1|benchmark)\n",
      "\n",
      "Family: gaussian\t Inference: parametric\n",
      "\n",
      "Number of observations: 86400\t Groups: {'benchmark': 12.0}\n",
      "\n",
      "Log-likelihood: -244294.170 \t AIC: 488598.341\n",
      "\n",
      "Random effects:\n",
      "\n",
      "                  Name     Var    Std\n",
      "benchmark  (Intercept)  14.804  3.848\n",
      "Residual                16.707  4.087\n",
      "\n",
      "No random effect correlations specified\n",
      "\n",
      "Fixed effects:\n",
      "\n",
      "             Estimate  2.5_ci  97.5_ci     SE         DF  T-stat  P-val  Sig\n",
      "(Intercept)     2.557   0.379    4.734  1.111     11.008   2.301  0.042    *\n",
      "algorithm1     -0.393  -0.460   -0.327  0.034  86386.000 -11.549  0.000  ***\n",
      "algorithm2     -0.293  -0.360   -0.227  0.034  86386.000  -8.612  0.000  ***\n",
      "P-values adjusted by tukey method for family of 3 estimates\n",
      "(  algorithm  Estimate  2.5_ci  97.5_ci     SE      DF\n",
      "1        PB     2.557   0.112    5.002  1.111  11.008\n",
      "2        RS     2.163  -0.282    4.608  1.111  11.008\n",
      "3        HB     2.263  -0.182    4.708  1.111  11.008,   Contrast  Estimate  2.5_ci  97.5_ci     SE       DF  T-stat  P-val  Sig\n",
      "1  PB - RS     0.393   0.314    0.473  0.034  86386.0  11.549  0.000  ***\n",
      "2  PB - HB     0.293   0.214    0.373  0.034  86386.0   8.612  0.000  ***\n",
      "3  RS - HB    -0.100  -0.180   -0.020  0.034  86386.0  -2.937  0.009   **)\n"
     ]
    }
   ],
   "source": [
    "lmem=Lmer(\"value ~ algorithm + (1|benchmark)\",data)\n",
    "lmem.fit(factors={\"algorithm\":list(data[\"algorithm\"].unique())})\n",
    "print(lmem.summary())\n",
    "print(lmem.post_hoc(marginal_vars=[\"algorithm\"]))#,grouping_vars=[\"benchmark\"])[0])"
   ]
  },
  {
   "cell_type": "code",
   "execution_count": 4,
   "metadata": {},
   "outputs": [
    {
     "name": "stdout",
     "output_type": "stream",
     "text": [
      "       Formula: value ~ algorithm + (1|benchmark)\n",
      "        Family: gaussian\n",
      "          Link: mu = identity\n",
      "  Observations: 86400\n",
      "        Priors: \n",
      "    target = mu\n",
      "        Common-level effects\n",
      "            Intercept ~ Normal(mu: 2.3279, sigma: 19.4629)\n",
      "            algorithm ~ Normal(mu: [0. 0.], sigma: [29.1943 29.1943])\n",
      "        \n",
      "        Group-level effects\n",
      "            1|benchmark ~ Normal(mu: 0.0, sigma: HalfNormal(sigma: 19.4629))\n",
      "        \n",
      "        Auxiliary parameters\n",
      "            sigma ~ HalfStudentT(nu: 4.0, sigma: 5.5049)\n"
     ]
    },
    {
     "name": "stderr",
     "output_type": "stream",
     "text": [
      "Auto-assigning NUTS sampler...\n",
      "Initializing NUTS using jitter+adapt_diag...\n",
      "Multiprocess sampling (4 chains in 4 jobs)\n",
      "NUTS: [sigma, Intercept, algorithm, 1|benchmark_sigma, 1|benchmark_offset]\n"
     ]
    },
    {
     "data": {
      "application/vnd.jupyter.widget-view+json": {
       "model_id": "0e951f6cf20841cdaab9aca6a8573786",
       "version_major": 2,
       "version_minor": 0
      },
      "text/plain": [
       "Output()"
      ]
     },
     "metadata": {},
     "output_type": "display_data"
    }
   ],
   "source": [
    "bamb=bambi.Model(\"value ~ algorithm + (1|benchmark)\",data)\n",
    "print(bamb)\n",
    "results=bamb.fit()\n",
    "print(results)\n"
   ]
  }
 ],
 "metadata": {
  "kernelspec": {
   "display_name": ".venv_3_10_0",
   "language": "python",
   "name": "python3"
  },
  "language_info": {
   "codemirror_mode": {
    "name": "ipython",
    "version": 3
   },
   "file_extension": ".py",
   "mimetype": "text/x-python",
   "name": "python",
   "nbconvert_exporter": "python",
   "pygments_lexer": "ipython3",
   "version": "3.10.0"
  }
 },
 "nbformat": 4,
 "nbformat_minor": 2
}
