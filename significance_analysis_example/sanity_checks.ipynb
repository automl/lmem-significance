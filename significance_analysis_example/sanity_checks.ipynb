{
 "cells": [
  {
   "cell_type": "code",
   "execution_count": 6,
   "metadata": {},
   "outputs": [],
   "source": [
    "import pandas as pd\n",
    "import numpy as np\n",
    "from tools import model_builder\n",
    "from itertools import product\n",
    "from dataset_management import get_dataset\n",
    "\n",
    "\n",
    "pd.set_option(\"chained_assignment\", None)\n",
    "pd.set_option(\"display.max_rows\", 5000)\n",
    "pd.set_option(\"display.max_columns\", 5000)\n",
    "pd.set_option(\"display.width\", 10000)"
   ]
  },
  {
   "cell_type": "code",
   "execution_count": 2,
   "metadata": {},
   "outputs": [
    {
     "name": "stdout",
     "output_type": "stream",
     "text": [
      "✅ Loading data done                                                                                 \n",
      "Simple model (49545.38) << Model with Seed-effect (49756.71)\n",
      "Chi-Square: 422.66221730403777, P-Value: 0.0\n",
      "Seed is a significant effect, likely influenced algorithms: []\n",
      "\n",
      "Benchmark: LC-167190\n",
      "Simple model (5937.06) << Model with Algorithm-effect (6137.96)\n",
      "Chi-Square: 401.7876838870907, P-Value: 0.0\n",
      "=> Benchmark LC-167190    is informative.\n",
      "\n",
      "Benchmark: LC-126026\n",
      "Simple model (8679.76) << Model with Algorithm-effect (8717.63)\n",
      "Chi-Square: 75.7407856357313, P-Value: 0.0\n",
      "=> Benchmark LC-126026    is informative.\n",
      "\n",
      "Benchmark: LC-168330\n",
      "Simple model (5895.78) << Model with Algorithm-effect (5990.89)\n",
      "Chi-Square: 190.22010228375802, P-Value: 0.0\n",
      "=> Benchmark LC-168330    is informative.\n",
      "\n",
      "Benchmark: LC-168910\n",
      "Simple model (4327.47) << Model with Algorithm-effect (4508.31)\n",
      "Chi-Square: 361.6629492350985, P-Value: 0.0\n",
      "=> Benchmark LC-168910    is informative.\n",
      "\n",
      "Benchmark: PD1-LM1B\n",
      "Simple model (5960.76) << Model with Algorithm-effect (6174.02)\n",
      "Chi-Square: 426.52266219338344, P-Value: 0.0\n",
      "=> Benchmark PD1-LM1B     is informative.\n",
      "\n",
      "Benchmark: PD1-WMT\n",
      "Simple model (4386.89) << Model with Algorithm-effect (4546.76)\n",
      "Chi-Square: 319.73130031359324, P-Value: 0.0\n",
      "=> Benchmark PD1-WMT      is informative.\n",
      "\n",
      "Benchmark: JAHS-C10\n",
      "Simple model (6775.63) << Model with Algorithm-effect (6788.26)\n",
      "Chi-Square: 25.271700223427615, P-Value: 3.2532693554632175e-06\n",
      "=> Benchmark JAHS-C10     is informative.\n",
      "\n",
      "Benchmark: LC-189906\n",
      "Simple model (5088.28) << Model with Algorithm-effect (5250.17)\n",
      "Chi-Square: 323.76586709100957, P-Value: 0.0\n",
      "=> Benchmark LC-189906    is informative.\n",
      "\n",
      "Benchmark: PD1-Cifar100\n",
      "Simple model (2279.65) << Model with Algorithm-effect (2301.82)\n",
      "Chi-Square: 44.3537656806584, P-Value: 2.337233739879707e-10\n",
      "=> Benchmark PD1-Cifar100 is informative.\n",
      "\n",
      "Benchmark: JAHS-CH\n",
      "Simple model (6449.66) << Model with Algorithm-effect (6479.33)\n",
      "Chi-Square: 59.33116485629216, P-Value: 1.3078427230084344e-13\n",
      "=> Benchmark JAHS-CH      is informative.\n",
      "\n",
      "Benchmark: JAHS-FM\n",
      "Simple model (7642.37) << Model with Algorithm-effect (7675.44)\n",
      "Chi-Square: 66.13701695200507, P-Value: 4.3298697960381105e-15\n",
      "=> Benchmark JAHS-FM      is informative.\n",
      "\n",
      "Benchmark: PD1-ImageNet\n",
      "Simple model (4316.84) << Model with Algorithm-effect (4418.55)\n",
      "Chi-Square: 203.4167829430371, P-Value: 0.0\n",
      "=> Benchmark PD1-ImageNet is informative.\n",
      "Simple model (63802.68) << Model with Fidelity-effect (70877.7)\n",
      "Chi-Square: 14150.04032595527, P-Value: 0.0\n",
      "\n",
      "Simple model (63802.68) << Model with Fidelity-interaction-effect (71438.44)\n",
      "Chi-Square: 15271.522402587943, P-Value: 0.0\n",
      "\n",
      "Model with Fidelity-effect (70877.7) << Model with Fidelity-interaction-effect (71438.44)\n",
      "Chi-Square: 1121.4820766326739, P-Value: 0.0\n",
      "\n",
      "=> Fidelity used_fidelity is both as simple and interaction effect significant, but interaction effect performs better.\n"
     ]
    }
   ],
   "source": [
    "# Sanity checks on PriorBand-data\n",
    "dataset=get_dataset(dataset_name=\"fig5/fig5_full\")\n",
    "dataset=dataset.loc[(dataset[\"used_fidelity\"].isin(range(1,25)))&(dataset[\"prior\"].isin([\"at25\",\"bad\"]))]\n",
    "\n",
    "builder=model_builder(dataset,\"normalized_regret\",\"algorithm\",\"benchmark\")\n",
    "builder.test_seed_dependency()\n",
    "builder.test_benchmark_information()\n",
    "builder.test_fidelity(fidelity_var=\"used_fidelity\")"
   ]
  },
  {
   "cell_type": "code",
   "execution_count": 8,
   "metadata": {},
   "outputs": [],
   "source": [
    "# Synthetic data\n",
    "\n",
    "algos=[\"A-1\",\"A-2\",\"A-3\"]\n",
    "seeds=[str(x) for x in range(50)]\n",
    "benchmarks=[\"B-0\",\"B-1\",\"B-2\"]\n",
    "budgets=range(1,11)\n",
    "combination = list(product(algos, benchmarks, [0],seeds,budgets))\n"
   ]
  },
  {
   "cell_type": "code",
   "execution_count": 9,
   "metadata": {},
   "outputs": [
    {
     "name": "stdout",
     "output_type": "stream",
     "text": [
      "Simple model (-3725.63) << Model with Seed-effect (-2956.25)\n",
      "Chi-Square: 1538.7509508900293, P-Value: 0.0\n",
      "Seed is a significant effect, likely influenced algorithms: ['A-1']\n"
     ]
    },
    {
     "data": {
      "text/plain": [
       "['A-1']"
      ]
     },
     "execution_count": 9,
     "metadata": {},
     "output_type": "execute_result"
    }
   ],
   "source": [
    "# In this dataset, one of the algorithms has a seed dependency\n",
    "seed_df = pd.DataFrame(combination, columns=[\"algorithm\", \"benchmark\", \"value\", \"seed\",\"budget\"])\n",
    "seed_df[\"value\"] = seed_df.apply(lambda row:np.random.normal(int(row[\"seed\"])*0.1 if row[\"algorithm\"][2] in [\"1\"] and (int(row[\"seed\"])%5==0 and row[\"seed\"]!=\"0\") else 2.5, 0.1 if row[\"algorithm\"][2] in [\"1\"] else 0.55), axis=1)\n",
    "\n",
    "builder=model_builder(seed_df)\n",
    "builder.test_seed_dependency()"
   ]
  },
  {
   "cell_type": "code",
   "execution_count": 10,
   "metadata": {},
   "outputs": [
    {
     "name": "stdout",
     "output_type": "stream",
     "text": [
      "\n",
      "Benchmark: B-0\n",
      "Simple model (4782.04) == Model with Algorithm-effect (4783.5)\n",
      "Chi-Square: 2.9292915607220493, P-Value: 0.2311598583386154\n",
      "=> Benchmark B-0 is uninformative.\n",
      "\n",
      "Benchmark: B-1\n",
      "Simple model (1613.37) << Model with Algorithm-effect (4828.87)\n",
      "Chi-Square: 6431.004016531817, P-Value: 0.0\n",
      "=> Benchmark B-1 is informative.\n",
      "\n",
      "Benchmark: B-2\n",
      "Simple model (587.98) << Model with Algorithm-effect (4764.94)\n",
      "Chi-Square: 8353.925176262983, P-Value: 0.0\n",
      "=> Benchmark B-2 is informative.\n",
      "\n",
      "  Name           Var       Std\n",
      "0  B-0  1.042499e-08  0.000102\n",
      "1  B-1  3.595527e-02  0.189619\n",
      "2  B-2  1.433224e-01  0.378579\n",
      "Benchmarks without algorithm variation: ['B-0']\n"
     ]
    },
    {
     "data": {
      "text/plain": [
       "({'B-0': False, 'B-1': True, 'B-2': True},\n",
       "           Name           Var       Std\n",
       " algorithm  B-0  1.042499e-08  0.000102\n",
       " algorithm  B-1  3.595527e-02  0.189619\n",
       " algorithm  B-2  1.433224e-01  0.378579)"
      ]
     },
     "execution_count": 10,
     "metadata": {},
     "output_type": "execute_result"
    }
   ],
   "source": [
    "# In this dataset, some benchmarks have algorithmic variation and some don't\n",
    "benchmark_df = pd.DataFrame(combination, columns=[\"algorithm\", \"benchmark\", \"value\", \"seed\",\"budget\"])\n",
    "benchmark_df[\"value\"] = benchmark_df.apply(lambda row: np.random.normal(0.1*int(row[\"algorithm\"][2])*int(row[\"benchmark\"][2]), 0.01), axis=1)\n",
    "\n",
    "builder=model_builder(benchmark_df)\n",
    "builder.test_benchmark_information(rank_benchmarks=True)"
   ]
  },
  {
   "cell_type": "code",
   "execution_count": 11,
   "metadata": {},
   "outputs": [
    {
     "name": "stdout",
     "output_type": "stream",
     "text": [
      "Simple model (-4682.55) << Model with Fidelity-effect (-4289.31)\n",
      "Chi-Square: 786.4719513087948, P-Value: 0.0\n",
      "\n",
      "Simple model (-4682.55) << Model with Fidelity-interaction-effect (-4288.38)\n",
      "Chi-Square: 788.335417915785, P-Value: 0.0\n",
      "\n",
      "Model with Fidelity-effect (-4289.31) == Model with Fidelity-interaction-effect (-4288.38)\n",
      "Chi-Square: 1.8634666069901868, P-Value: 0.3938704213910704\n",
      "\n",
      "=> Fidelity budget is both as simple and interaction effect significant, but as simple effect performs better.\n"
     ]
    }
   ],
   "source": [
    "# In this dataset, the budget has a direct impact on the value\n",
    "budget_df=pd.DataFrame(combination, columns=[\"algorithm\", \"benchmark\", \"value\", \"seed\",\"budget\"])\n",
    "budget_df[\"value\"] = budget_df.apply(lambda row:np.random.normal(0.1*np.random.normal(int(row[\"budget\"])-5,6,1)[0], 0.2), axis=1)\n",
    "\n",
    "builder=model_builder(budget_df)\n",
    "builder.test_fidelity(fidelity_var=\"budget\")"
   ]
  }
 ],
 "metadata": {
  "kernelspec": {
   "display_name": ".venv_3_10_0",
   "language": "python",
   "name": "python3"
  },
  "language_info": {
   "codemirror_mode": {
    "name": "ipython",
    "version": 3
   },
   "file_extension": ".py",
   "mimetype": "text/x-python",
   "name": "python",
   "nbconvert_exporter": "python",
   "pygments_lexer": "ipython3",
   "version": "3.10.0"
  }
 },
 "nbformat": 4,
 "nbformat_minor": 2
}
